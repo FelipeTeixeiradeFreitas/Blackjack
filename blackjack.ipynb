{
 "cells": [
  {
   "cell_type": "code",
   "execution_count": 35,
   "metadata": {},
   "outputs": [],
   "source": [
    "import random\n",
    "#import pixiedust\n",
    "NAIPES = ['♥', '♣', '♦', '♠']\n",
    "POSTOS = ['A', '2', '3', '4', '5', '6', '7', '8', '9', 'D', 'J', 'Q', 'K']\n",
    "VALOR = {'A': 14, '2': 2, '3': 3, '4': 4, '5': 5, '6': 6, '7': 7, '8': 8, '9': 9, 'D': 10,\n",
    "'J': 11, 'Q': 12, 'K': 13}\n",
    "# resultados de uma rodada\n",
    "SHELDON = 'S'\n",
    "LEONARD = 'L'\n",
    "EMPATE = 'E'\n",
    "# número de cartas e rodadas\n",
    "N_CARTAS = 52\n",
    "N_RODADAS = 26"
   ]
  },
  {
   "cell_type": "code",
   "execution_count": 36,
   "metadata": {},
   "outputs": [],
   "source": [
    "class Carta:\n",
    "    def __init__(self, naipe, posto):\n",
    "            self.naipe = naipe\n",
    "            self.posto = posto\n",
    "    def pegue_naipe(self):\n",
    "            return self.naipe\n",
    "    def pegue_posto(self):\n",
    "            return self.posto\n",
    "    def pegue_valor(self):\n",
    "            return VALOR[self.posto]"
   ]
  },
  {
   "cell_type": "code",
   "execution_count": 37,
   "metadata": {},
   "outputs": [],
   "source": [
    "class Baralho:\n",
    "    \n",
    "    def __init__(self):\n",
    "        \n",
    "        \n",
    "# Adiciona todas as combinações de naipe e posto no baralho\n",
    "        self.baralho = []\n",
    "        for naipe in NAIPES:            \n",
    "            for posto in POSTOS:\n",
    "                carta = Carta(naipe,posto)\n",
    "                self.baralho.append(carta)\n",
    "    def embaralhe(self):\n",
    "# Utiliza a função fornecida para embaralhar as cartas\n",
    "        random.shuffle(self.baralho)\n",
    "    def pegue_carta(self):\n",
    "# pop() é um método da classe list que retorna o último elemento da lista e o remove dela\n",
    "        carta = self.baralho.pop()\n",
    "        return carta"
   ]
  },
  {
   "cell_type": "code",
   "execution_count": 38,
   "metadata": {},
   "outputs": [],
   "source": [
    "class Jogador:\n",
    "    \n",
    "    def __init__(self, nome):\n",
    "            self.nome = nome\n",
    "            self.monte = []\n",
    "    def __str__(self,carta):\n",
    " # Monta uma string como especificado e a retorna\n",
    "            no_cartas = len(self.monte)\n",
    "            s = \"%s: \" %(self.nome)\n",
    "            for i in range(no_cartas-1,-1,-1):\n",
    "                carta = self.monte[i]\n",
    "                s += carta.pegue_naipe() + carta.pegue_posto() + ' '\n",
    "            return s\n",
    "    def recebe_carta(self,carta):\n",
    "            self.monte.append(carta)\n",
    "    def pegue_carta(self):\n",
    "            carta = self.monte.pop()\n",
    "            return carta"
   ]
  },
  {
   "cell_type": "code",
   "execution_count": 39,
   "metadata": {
    "pixiedust": {
     "displayParams": {}
    }
   },
   "outputs": [
    {
     "name": "stdout",
     "output_type": "stream",
     "text": [
      "War entre Sheldon e Leonard\n",
      "Venceu : S L S L L L S S S S L S L S S S L S L L S E S L S L\n",
      "Sheldon venceu a partida.\n"
     ]
    }
   ],
   "source": [
    "##%%pixie_debugger\n",
    "    \n",
    "print(\"War entre Sheldon e Leonard\")\n",
    " # Cria os jogadores da Classe 'Jogador', passando seus nomes para o construtor\n",
    "sheldon = Jogador(\"Sheldon\")\n",
    "leonard = Jogador(\"Leonard\")\n",
    "baralho = Baralho() # Cria o baralho\n",
    "baralho.embaralhe() # Embaralha as cartas do baralho\n",
    " # Distribui as cartas para os jogadores\n",
    "for rodadas in range(N_RODADAS):\n",
    "    carta = baralho.pegue_carta()\n",
    "    sheldon.recebe_carta(carta)\n",
    "    carta = baralho.pegue_carta()\n",
    "    leonard.recebe_carta(carta)\n",
    " # Imprime as cartas dos jogadores\n",
    " # Aqui, o método __str__ da classe Jogador é usado automaticamente\n",
    "#print(sheldon)\n",
    "#print(leonard)\n",
    "\n",
    " # Conta as cartas para determinar o vencedor\n",
    "cont_sheldon = 0 # contador de rodadas vencidas por sheldon\n",
    "cont_leonard = 0 # contador de rodadas vencidas por leonard\n",
    "vencedores = 'Venceu :' # String com os vencedores\n",
    "for rodada in range(N_RODADAS):\n",
    " # Pega as cartas dos montes e os valores\n",
    "    carta_sheldon = sheldon.pegue_carta() # Pega a ultima carta\n",
    "    valor_sheldon = carta_sheldon.pegue_valor() # Pega o valor dessa carta\n",
    "    carta_leonard = leonard.pegue_carta()\n",
    "    valor_leonard = carta_leonard.pegue_valor()\n",
    " # Verifica o vencedor\n",
    "    if valor_sheldon == valor_leonard:\n",
    "        vencedores += ' ' + EMPATE\n",
    "    elif valor_sheldon > valor_leonard:\n",
    "        vencedores += ' ' + SHELDON\n",
    "        cont_sheldon += 1\n",
    "    else:\n",
    "        vencedores += ' ' + LEONARD\n",
    "        cont_leonard += 1\n",
    " # Imprime a string com os vencedores\n",
    "print(vencedores)\n",
    " # Imprime a string indicando o vencedor\n",
    "if cont_sheldon == cont_leonard:\n",
    "    print(\"Sheldon e Leonard empataram a partida.\")\n",
    "if cont_sheldon > cont_leonard:\n",
    "    print(\"Sheldon venceu a partida.\")\n",
    "else: # cont_sheldon < cont_leonard:\n",
    "    print(\"Leonard venceu a partida.\")"
   ]
  },
  {
   "cell_type": "code",
   "execution_count": null,
   "metadata": {},
   "outputs": [],
   "source": []
  }
 ],
 "metadata": {
  "kernelspec": {
   "display_name": "Python 3",
   "language": "python",
   "name": "python3"
  },
  "language_info": {
   "codemirror_mode": {
    "name": "ipython",
    "version": 3
   },
   "file_extension": ".py",
   "mimetype": "text/x-python",
   "name": "python",
   "nbconvert_exporter": "python",
   "pygments_lexer": "ipython3",
   "version": "3.7.6"
  }
 },
 "nbformat": 4,
 "nbformat_minor": 1
}
